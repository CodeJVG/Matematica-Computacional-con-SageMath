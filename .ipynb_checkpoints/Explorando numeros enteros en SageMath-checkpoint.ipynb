{
 "cells": [
  {
   "cell_type": "markdown",
   "metadata": {},
   "source": [
    "Comenzamos definiendo una variable $n$ con un número entero"
   ]
  },
  {
   "cell_type": "code",
   "execution_count": 1,
   "metadata": {},
   "outputs": [],
   "source": [
    "n = 7642 "
   ]
  },
  {
   "cell_type": "code",
   "execution_count": 2,
   "metadata": {},
   "outputs": [
    {
     "data": {
      "text/plain": [
       "<class 'sage.rings.integer.Integer'>"
      ]
     },
     "execution_count": 2,
     "metadata": {},
     "output_type": "execute_result"
    }
   ],
   "source": [
    "type(n)"
   ]
  },
  {
   "cell_type": "markdown",
   "metadata": {},
   "source": [
    "Para esta clase de numero existe una variedad de metodos que podemos aplicar. Por ejemplo, verificar que el numero es primo."
   ]
  },
  {
   "cell_type": "code",
   "execution_count": 3,
   "metadata": {},
   "outputs": [
    {
     "data": {
      "text/plain": [
       "False"
      ]
     },
     "execution_count": 3,
     "metadata": {},
     "output_type": "execute_result"
    }
   ],
   "source": [
    "n.is_prime()"
   ]
  },
  {
   "cell_type": "markdown",
   "metadata": {},
   "source": [
    "Tambien podemos factorizar"
   ]
  },
  {
   "cell_type": "code",
   "execution_count": 4,
   "metadata": {},
   "outputs": [
    {
     "data": {
      "text/plain": [
       "2 * 3821"
      ]
     },
     "execution_count": 4,
     "metadata": {},
     "output_type": "execute_result"
    }
   ],
   "source": [
    "n.factor()"
   ]
  },
  {
   "cell_type": "markdown",
   "metadata": {},
   "source": [
    "O llamar el siguiente numero primo"
   ]
  },
  {
   "cell_type": "code",
   "execution_count": 5,
   "metadata": {},
   "outputs": [
    {
     "data": {
      "text/plain": [
       "7643"
      ]
     },
     "execution_count": 5,
     "metadata": {},
     "output_type": "execute_result"
    }
   ],
   "source": [
    "n.next_prime()"
   ]
  },
  {
   "cell_type": "code",
   "execution_count": 6,
   "metadata": {},
   "outputs": [
    {
     "data": {
      "text/plain": [
       "7639"
      ]
     },
     "execution_count": 6,
     "metadata": {},
     "output_type": "execute_result"
    }
   ],
   "source": [
    "#Caso contrario\n",
    "n.previous_prime()"
   ]
  },
  {
   "cell_type": "code",
   "execution_count": 9,
   "metadata": {},
   "outputs": [
    {
     "data": {
      "text/plain": [
       "[1, 2, 3821, 7642]"
      ]
     },
     "execution_count": 9,
     "metadata": {},
     "output_type": "execute_result"
    }
   ],
   "source": [
    "n.divisors()\n",
    "# Tambien divisors(n)"
   ]
  },
  {
   "cell_type": "code",
   "execution_count": 10,
   "metadata": {},
   "outputs": [
    {
     "data": {
      "text/plain": [
       "[2, 4, 6, 7]"
      ]
     },
     "execution_count": 10,
     "metadata": {},
     "output_type": "execute_result"
    }
   ],
   "source": [
    "#Descomponer el numero por una lista de digitos, en orden creciente\n",
    "n.digits()"
   ]
  },
  {
   "cell_type": "code",
   "execution_count": 16,
   "metadata": {},
   "outputs": [
    {
     "data": {
      "text/plain": [
       "4"
      ]
     },
     "execution_count": 16,
     "metadata": {},
     "output_type": "execute_result"
    }
   ],
   "source": [
    "#Cantidad de digitos\n",
    "len(n.digits())\n",
    "#Tambien n.ndigits()"
   ]
  },
  {
   "cell_type": "code",
   "execution_count": 17,
   "metadata": {},
   "outputs": [
    {
     "data": {
      "text/plain": [
       "[1, 1, 5, 1, 8, 4, 6, 1, 5, 8, 6, 8]"
      ]
     },
     "execution_count": 17,
     "metadata": {},
     "output_type": "execute_result"
    }
   ],
   "source": [
    "m = 868516481511\n",
    "m.digits()"
   ]
  },
  {
   "cell_type": "code",
   "execution_count": 18,
   "metadata": {},
   "outputs": [
    {
     "data": {
      "text/plain": [
       "12"
      ]
     },
     "execution_count": 18,
     "metadata": {},
     "output_type": "execute_result"
    }
   ],
   "source": [
    "m.ndigits()"
   ]
  },
  {
   "cell_type": "markdown",
   "metadata": {},
   "source": [
    "Podemos revisar la documentacion de una función o un método con la función **help**"
   ]
  },
  {
   "cell_type": "code",
   "execution_count": 19,
   "metadata": {
    "scrolled": true
   },
   "outputs": [
    {
     "name": "stdout",
     "output_type": "stream",
     "text": [
      "Help on built-in function divisors:\n",
      "\n",
      "divisors(...) method of sage.rings.integer.Integer instance\n",
      "    Integer.divisors(self, method=None)\n",
      "    File: sage/rings/integer.pyx (starting at line 3053)\n",
      "    \n",
      "            Return the list of all positive integer divisors of this integer,\n",
      "            sorted in increasing order.\n",
      "    \n",
      "            EXAMPLES:\n",
      "    \n",
      "            ::\n",
      "    \n",
      "                sage: (-3).divisors()\n",
      "                [1, 3]\n",
      "                sage: 6.divisors()\n",
      "                [1, 2, 3, 6]\n",
      "                sage: 28.divisors()\n",
      "                [1, 2, 4, 7, 14, 28]\n",
      "                sage: (2^5).divisors()\n",
      "                [1, 2, 4, 8, 16, 32]\n",
      "                sage: 100.divisors()\n",
      "                [1, 2, 4, 5, 10, 20, 25, 50, 100]\n",
      "                sage: 1.divisors()\n",
      "                [1]\n",
      "                sage: 0.divisors()\n",
      "                Traceback (most recent call last):\n",
      "                ...\n",
      "                ValueError: n must be nonzero\n",
      "                sage: (2^3 * 3^2 * 17).divisors()\n",
      "                [1, 2, 3, 4, 6, 8, 9, 12, 17, 18, 24, 34, 36, 51, 68, 72,\n",
      "                102, 136, 153, 204, 306, 408, 612, 1224]\n",
      "                sage: a = odd_part(factorial(31))\n",
      "                sage: v = a.divisors()\n",
      "                sage: len(v)\n",
      "                172800\n",
      "                sage: prod(e + 1 for p, e in factor(a))\n",
      "                172800\n",
      "                sage: all(t.divides(a) for t in v)\n",
      "                True\n",
      "    \n",
      "            ::\n",
      "    \n",
      "                sage: n = 2^551 - 1\n",
      "                sage: L = n.divisors()\n",
      "                sage: len(L)\n",
      "                256\n",
      "                sage: L[-1] == n\n",
      "                True\n",
      "    \n",
      "            TESTS:\n",
      "    \n",
      "            Overflow::\n",
      "    \n",
      "                sage: prod(primes_first_n(64)).divisors()\n",
      "                Traceback (most recent call last):\n",
      "                ...\n",
      "                OverflowError: value too large\n",
      "                sage: prod(primes_first_n(58)).divisors()\n",
      "                Traceback (most recent call last):\n",
      "                ...\n",
      "                OverflowError: value too large                                 # 32-bit\n",
      "                MemoryError: failed to allocate 288230376151711744 * 24 bytes  # 64-bit\n",
      "    \n",
      "            Check for memory leaks and ability to interrupt\n",
      "            (the ``divisors`` call below allocates about 800 MB every time,\n",
      "            so a memory leak will not go unnoticed)::\n",
      "    \n",
      "                sage: n = prod(primes_first_n(25))\n",
      "                sage: for i in range(20):  # long time\n",
      "                ....:     try:\n",
      "                ....:         alarm(RDF.random_element(1e-3, 0.5))\n",
      "                ....:         _ = n.divisors()\n",
      "                ....:         cancel_alarm()  # we never get here\n",
      "                ....:     except AlarmInterrupt:\n",
      "                ....:         pass\n",
      "    \n",
      "            Test a strange method::\n",
      "    \n",
      "                sage: 100.divisors(method='hey')\n",
      "                Traceback (most recent call last):\n",
      "                ...\n",
      "                ValueError: method must be 'pari' or 'sage'\n",
      "    \n",
      "    \n",
      "            .. NOTE::\n",
      "    \n",
      "               If one first computes all the divisors and then sorts it,\n",
      "               the sorting step can easily dominate the runtime. Note,\n",
      "               however, that (non-negative) multiplication on the left\n",
      "               preserves relative order. One can leverage this fact to\n",
      "               keep the list in order as one computes it using a process\n",
      "               similar to that of the merge sort algorithm.\n",
      "\n"
     ]
    }
   ],
   "source": [
    "help(n.divisors)"
   ]
  },
  {
   "cell_type": "markdown",
   "metadata": {},
   "source": [
    "Tambien podemos ver la documentacion con un signo de interrogación **\"?\"**"
   ]
  },
  {
   "cell_type": "code",
   "execution_count": 21,
   "metadata": {},
   "outputs": [],
   "source": [
    "n.divisors?"
   ]
  },
  {
   "cell_type": "code",
   "execution_count": null,
   "metadata": {},
   "outputs": [],
   "source": [
    "a,b ="
   ]
  }
 ],
 "metadata": {
  "kernelspec": {
   "display_name": "SageMath 9.1",
   "language": "sage",
   "name": "sagemath"
  },
  "language_info": {
   "codemirror_mode": {
    "name": "ipython",
    "version": 3
   },
   "file_extension": ".py",
   "mimetype": "text/x-python",
   "name": "python",
   "nbconvert_exporter": "python",
   "pygments_lexer": "ipython3",
   "version": "3.7.3"
  }
 },
 "nbformat": 4,
 "nbformat_minor": 2
}
